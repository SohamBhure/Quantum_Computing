{
  "nbformat": 4,
  "nbformat_minor": 0,
  "metadata": {
    "colab": {
      "name": "SimonAlgorithm_Qiskit.ipynb",
      "provenance": [],
      "collapsed_sections": []
    },
    "kernelspec": {
      "name": "python3",
      "display_name": "Python 3"
    }
  },
  "cells": [
    {
      "cell_type": "markdown",
      "metadata": {
        "id": "T8LN7B0d-v__"
      },
      "source": [
        "# Implementing Simon's Algorithm using Qiskit\n"
      ]
    },
    {
      "cell_type": "markdown",
      "metadata": {
        "id": "FRwLg9_y_3vu"
      },
      "source": [
        "Import the required packages"
      ]
    },
    {
      "cell_type": "code",
      "metadata": {
        "id": "iyooCF78wvIi"
      },
      "source": [
        "pip install qiskit"
      ],
      "execution_count": null,
      "outputs": []
    },
    {
      "cell_type": "code",
      "metadata": {
        "id": "Pxh9q9L9xVpS"
      },
      "source": [
        "pip install git+https://github.com/qiskit-community/qiskit-textbook.git#subdirectory=qiskit-textbook-src"
      ],
      "execution_count": null,
      "outputs": []
    },
    {
      "cell_type": "code",
      "metadata": {
        "id": "6xapjWsJwkR-"
      },
      "source": [
        "from qiskit import IBMQ, BasicAer\n",
        "from qiskit.providers.ibmq import least_busy\n",
        "from qiskit import QuantumCircuit, execute\n",
        "from qiskit.visualization import plot_histogram\n",
        "from qiskit_textbook.tools import simon_oracle"
      ],
      "execution_count": 7,
      "outputs": []
    },
    {
      "cell_type": "markdown",
      "metadata": {
        "id": "U7JUjDG9AGRE"
      },
      "source": [
        "Consider b to be 101, and now lets start building our circuit layer by layer, starting with the hadamard gate to put the bits in quantum superposition"
      ]
    },
    {
      "cell_type": "code",
      "metadata": {
        "id": "gvs2AzMEwpIw",
        "outputId": "db5791f8-0c5f-4d27-cf06-1743a4f8b0b1",
        "colab": {
          "base_uri": "https://localhost:8080/",
          "height": 34
        }
      },
      "source": [
        "b = '101'\n",
        "\n",
        "n = len(b)\n",
        "simon_circuit = QuantumCircuit(n*2, n)\n",
        "simon_circuit.h(range(n))    \n",
        "simon_circuit.barrier()"
      ],
      "execution_count": 11,
      "outputs": [
        {
          "output_type": "execute_result",
          "data": {
            "text/plain": [
              "<qiskit.circuit.instructionset.InstructionSet at 0x7fda2c51b2e8>"
            ]
          },
          "metadata": {
            "tags": []
          },
          "execution_count": 11
        }
      ]
    },
    {
      "cell_type": "markdown",
      "metadata": {
        "id": "Uj-7LepwAl_2"
      },
      "source": [
        "Now lets apply an oracle"
      ]
    },
    {
      "cell_type": "code",
      "metadata": {
        "id": "ovn6Ie4p1Jsy",
        "outputId": "7ab43790-444c-4fec-b5c4-e27f3fbfdde2",
        "colab": {
          "base_uri": "https://localhost:8080/",
          "height": 34
        }
      },
      "source": [
        "simon_circuit += simon_oracle(b)\n",
        "simon_circuit.barrier()"
      ],
      "execution_count": 12,
      "outputs": [
        {
          "output_type": "execute_result",
          "data": {
            "text/plain": [
              "<qiskit.circuit.instructionset.InstructionSet at 0x7fda2bf0f438>"
            ]
          },
          "metadata": {
            "tags": []
          },
          "execution_count": 12
        }
      ]
    },
    {
      "cell_type": "markdown",
      "metadata": {
        "id": "vZH8ZWiLAs-v"
      },
      "source": [
        "Add hadamard gate to the input register and measure the result"
      ]
    },
    {
      "cell_type": "code",
      "metadata": {
        "id": "cK6tOdgD1OMv",
        "outputId": "df248a5c-4737-4274-cec2-9ed32fffa713",
        "colab": {
          "base_uri": "https://localhost:8080/",
          "height": 306
        }
      },
      "source": [
        "simon_circuit.h(range(n))\n",
        "\n",
        "simon_circuit.measure(range(n), range(n))\n",
        "simon_circuit.draw()"
      ],
      "execution_count": 13,
      "outputs": [
        {
          "output_type": "execute_result",
          "data": {
            "text/html": [
              "<pre style=\"word-wrap: normal;white-space: pre;background: #fff0;line-height: 1.1;font-family: &quot;Courier New&quot;,Courier,monospace\">     ┌───┐ ░                           ░ ┌───┐┌─┐      \n",
              "q_0: ┤ H ├─░───■───────────────────────░─┤ H ├┤M├──────\n",
              "     ├───┤ ░   │                       ░ ├───┤└╥┘┌─┐   \n",
              "q_1: ┤ H ├─░───┼────■─────────■────■───░─┤ H ├─╫─┤M├───\n",
              "     ├───┤ ░   │    │         │    │   ░ ├───┤ ║ └╥┘┌─┐\n",
              "q_2: ┤ H ├─░───┼────┼────■────┼────┼───░─┤ H ├─╫──╫─┤M├\n",
              "     └───┘ ░ ┌─┴─┐  │    │    │    │   ░ └───┘ ║  ║ └╥┘\n",
              "q_3: ──────░─┤ X ├──┼────┼────┼────┼───░───────╫──╫──╫─\n",
              "           ░ └───┘┌─┴─┐  │  ┌─┴─┐  │   ░       ║  ║  ║ \n",
              "q_4: ──────░──────┤ X ├──┼──┤ X ├──┼───░───────╫──╫──╫─\n",
              "           ░      └───┘┌─┴─┐└───┘┌─┴─┐ ░       ║  ║  ║ \n",
              "q_5: ──────░───────────┤ X ├─────┤ X ├─░───────╫──╫──╫─\n",
              "           ░           └───┘     └───┘ ░       ║  ║  ║ \n",
              "c_0: ══════════════════════════════════════════╩══╬══╬═\n",
              "                                                  ║  ║ \n",
              "c_1: ═════════════════════════════════════════════╩══╬═\n",
              "                                                     ║ \n",
              "c_2: ════════════════════════════════════════════════╩═\n",
              "                                                       </pre>"
            ],
            "text/plain": [
              "     ┌───┐ ░                           ░ ┌───┐┌─┐      \n",
              "q_0: ┤ H ├─░───■───────────────────────░─┤ H ├┤M├──────\n",
              "     ├───┤ ░   │                       ░ ├───┤└╥┘┌─┐   \n",
              "q_1: ┤ H ├─░───┼────■─────────■────■───░─┤ H ├─╫─┤M├───\n",
              "     ├───┤ ░   │    │         │    │   ░ ├───┤ ║ └╥┘┌─┐\n",
              "q_2: ┤ H ├─░───┼────┼────■────┼────┼───░─┤ H ├─╫──╫─┤M├\n",
              "     └───┘ ░ ┌─┴─┐  │    │    │    │   ░ └───┘ ║  ║ └╥┘\n",
              "q_3: ──────░─┤ X ├──┼────┼────┼────┼───░───────╫──╫──╫─\n",
              "           ░ └───┘┌─┴─┐  │  ┌─┴─┐  │   ░       ║  ║  ║ \n",
              "q_4: ──────░──────┤ X ├──┼──┤ X ├──┼───░───────╫──╫──╫─\n",
              "           ░      └───┘┌─┴─┐└───┘┌─┴─┐ ░       ║  ║  ║ \n",
              "q_5: ──────░───────────┤ X ├─────┤ X ├─░───────╫──╫──╫─\n",
              "           ░           └───┘     └───┘ ░       ║  ║  ║ \n",
              "c_0: ══════════════════════════════════════════╩══╬══╬═\n",
              "                                                  ║  ║ \n",
              "c_1: ═════════════════════════════════════════════╩══╬═\n",
              "                                                     ║ \n",
              "c_2: ════════════════════════════════════════════════╩═\n",
              "                                                       "
            ]
          },
          "metadata": {
            "tags": []
          },
          "execution_count": 13
        }
      ]
    },
    {
      "cell_type": "markdown",
      "metadata": {
        "id": "YNIuVLueA2PX"
      },
      "source": [
        "Simulating our result using a histogram"
      ]
    },
    {
      "cell_type": "code",
      "metadata": {
        "id": "6UPl8lIuwrvj",
        "outputId": "95b97417-a358-4a4c-8e51-66d2a1b85576",
        "colab": {
          "base_uri": "https://localhost:8080/",
          "height": 340
        }
      },
      "source": [
        "backend = BasicAer.get_backend('qasm_simulator')\n",
        "shots = 1024\n",
        "results = execute(simon_circuit, backend=backend, shots=shots).result()\n",
        "counts = results.get_counts()\n",
        "plot_histogram(counts)"
      ],
      "execution_count": 14,
      "outputs": [
        {
          "output_type": "execute_result",
          "data": {
            "image/png": "[encoded data removed]",
            "text/plain": [
              "<Figure size 504x360 with 1 Axes>"
            ]
          },
          "metadata": {
            "tags": []
          },
          "execution_count": 14
        }
      ]
    },
    {
      "cell_type": "markdown",
      "metadata": {
        "id": "U2QmsLNJA-Vd"
      },
      "source": [
        "Finally lets calculate the dot product of the results"
      ]
    },
    {
      "cell_type": "code",
      "metadata": {
        "id": "ndrjd2C80gtT",
        "outputId": "80aaa4e9-206c-46aa-f5c1-342b40fa0647",
        "colab": {
          "base_uri": "https://localhost:8080/",
          "height": 84
        }
      },
      "source": [
        "def bdotz(b, z):\n",
        "    accum = 0\n",
        "    for i in range(len(b)):\n",
        "        accum += int(b[i]) * int(z[i])\n",
        "    return (accum % 2)\n",
        "\n",
        "for z in counts:\n",
        "    print( '{}.{} = {} (mod 2)'.format(b, z, bdotz(b,z)) )"
      ],
      "execution_count": 15,
      "outputs": [
        {
          "output_type": "stream",
          "text": [
            "110.001 = 0 (mod 2)\n",
            "110.111 = 0 (mod 2)\n",
            "110.000 = 0 (mod 2)\n",
            "110.110 = 0 (mod 2)\n"
          ],
          "name": "stdout"
        }
      ]
    },
    {
      "cell_type": "markdown",
      "metadata": {
        "id": "0rTmK6h1_9F7"
      },
      "source": [
        "# Generalisation: \n"
      ]
    },
    {
      "cell_type": "markdown",
      "metadata": {
        "id": "jUpHM5cYBoZ5"
      },
      "source": [
        "Here we will do similar things done above but now run it on IBM Quantum devices "
      ]
    },
    {
      "cell_type": "code",
      "metadata": {
        "id": "0CqoWWzo9CMd",
        "outputId": "c36afcc8-bc16-4ae0-e16f-32f9da2e9585",
        "colab": {
          "base_uri": "https://localhost:8080/",
          "height": 34
        }
      },
      "source": [
        "b = '11'\n",
        "n = len(b)\n",
        "simon_circuit_2 = QuantumCircuit(n*2, n)\n",
        "simon_circuit_2.h(range(n))\n"
      ],
      "execution_count": 30,
      "outputs": [
        {
          "output_type": "execute_result",
          "data": {
            "text/plain": [
              "<qiskit.circuit.instructionset.InstructionSet at 0x7fda2be480b8>"
            ]
          },
          "metadata": {
            "tags": []
          },
          "execution_count": 30
        }
      ]
    },
    {
      "cell_type": "code",
      "metadata": {
        "id": "jFzDJdK1B5Yv",
        "outputId": "d1667297-0165-4bdd-ffea-b484b6716109",
        "colab": {
          "base_uri": "https://localhost:8080/",
          "height": 34
        }
      },
      "source": [
        "simon_circuit_2 += simon_oracle(b)\n",
        "simon_circuit_2.h(range(n))\n"
      ],
      "execution_count": 31,
      "outputs": [
        {
          "output_type": "execute_result",
          "data": {
            "text/plain": [
              "<qiskit.circuit.instructionset.InstructionSet at 0x7fda2be48518>"
            ]
          },
          "metadata": {
            "tags": []
          },
          "execution_count": 31
        }
      ]
    },
    {
      "cell_type": "markdown",
      "metadata": {
        "id": "JJSrBrkiB_Zp"
      },
      "source": [
        "Measuring QBits"
      ]
    },
    {
      "cell_type": "code",
      "metadata": {
        "id": "EBv6Tt5hB6tN",
        "outputId": "bc0e34fc-7640-4a4f-f9e6-5a52eca5b850",
        "colab": {
          "base_uri": "https://localhost:8080/",
          "height": 214
        }
      },
      "source": [
        "simon_circuit_2.measure(range(n), range(n))\n",
        "simon_circuit_2.draw()"
      ],
      "execution_count": 32,
      "outputs": [
        {
          "output_type": "execute_result",
          "data": {
            "text/html": [
              "<pre style=\"word-wrap: normal;white-space: pre;background: #fff0;line-height: 1.1;font-family: &quot;Courier New&quot;,Courier,monospace\">     ┌───┐                         ┌───┐┌─┐\n",
              "q_0: ┤ H ├──■─────────■─────────■──┤ H ├┤M├\n",
              "     ├───┤  │         │  ┌───┐  │  └┬─┬┘└╥┘\n",
              "q_1: ┤ H ├──┼────■────┼──┤ H ├──┼───┤M├──╫─\n",
              "     └───┘┌─┴─┐  │  ┌─┴─┐└───┘  │   └╥┘  ║ \n",
              "q_2: ─────┤ X ├──┼──┤ X ├───────┼────╫───╫─\n",
              "          └───┘┌─┴─┐└───┘     ┌─┴─┐  ║   ║ \n",
              "q_3: ──────────┤ X ├──────────┤ X ├──╫───╫─\n",
              "               └───┘          └───┘  ║   ║ \n",
              "c_0: ════════════════════════════════╬═══╩═\n",
              "                                     ║     \n",
              "c_1: ════════════════════════════════╩═════\n",
              "                                           </pre>"
            ],
            "text/plain": [
              "     ┌───┐                         ┌───┐┌─┐\n",
              "q_0: ┤ H ├──■─────────■─────────■──┤ H ├┤M├\n",
              "     ├───┤  │         │  ┌───┐  │  └┬─┬┘└╥┘\n",
              "q_1: ┤ H ├──┼────■────┼──┤ H ├──┼───┤M├──╫─\n",
              "     └───┘┌─┴─┐  │  ┌─┴─┐└───┘  │   └╥┘  ║ \n",
              "q_2: ─────┤ X ├──┼──┤ X ├───────┼────╫───╫─\n",
              "          └───┘┌─┴─┐└───┘     ┌─┴─┐  ║   ║ \n",
              "q_3: ──────────┤ X ├──────────┤ X ├──╫───╫─\n",
              "               └───┘          └───┘  ║   ║ \n",
              "c_0: ════════════════════════════════╬═══╩═\n",
              "                                     ║     \n",
              "c_1: ════════════════════════════════╩═════\n",
              "                                           "
            ]
          },
          "metadata": {
            "tags": []
          },
          "execution_count": 32
        }
      ]
    },
    {
      "cell_type": "markdown",
      "metadata": {
        "id": "Gk6L1eb7CE5_"
      },
      "source": [
        "Make sure your account is linked with IBMQ"
      ]
    },
    {
      "cell_type": "code",
      "metadata": {
        "id": "eTgrHOTW94Ep",
        "outputId": "3da2b26d-137e-4f0e-baf5-42e1d1038b34",
        "colab": {
          "base_uri": "https://localhost:8080/",
          "height": 34
        }
      },
      "source": [
        "from qiskit import IBMQ\n",
        "IBMQ.save_account('<your code>')"
      ],
      "execution_count": 22,
      "outputs": [
        {
          "output_type": "stream",
          "text": [
            "configrc.store_credentials:WARNING:2020-10-13 17:18:11,972: Credentials already present. Set overwrite=True to overwrite.\n"
          ],
          "name": "stderr"
        }
      ]
    },
    {
      "cell_type": "code",
      "metadata": {
        "id": "M0nX-W839EUZ",
        "outputId": "f99e4644-3910-4908-8992-9e2fde35f315",
        "colab": {
          "base_uri": "https://localhost:8080/",
          "height": 50
        }
      },
      "source": [
        "IBMQ.load_account()\n",
        "provider = IBMQ.get_provider(hub='ibm-q')\n",
        "backend = least_busy(provider.backends(filters=lambda x: x.configuration().n_qubits >= n and \n",
        "                                   not x.configuration().simulator and x.status().operational==True))\n",
        "print(\"least busy backend: \", backend)"
      ],
      "execution_count": 33,
      "outputs": [
        {
          "output_type": "stream",
          "text": [
            "ibmqfactory.load_account:WARNING:2020-10-13 17:39:08,032: Credentials are already in use. The existing account in the session will be replaced.\n"
          ],
          "name": "stderr"
        },
        {
          "output_type": "stream",
          "text": [
            "least busy backend:  ibmq_valencia\n"
          ],
          "name": "stdout"
        }
      ]
    },
    {
      "cell_type": "markdown",
      "metadata": {
        "id": "GBhAv92dCon1"
      },
      "source": [
        "Now lets execute and monitor the job"
      ]
    },
    {
      "cell_type": "code",
      "metadata": {
        "id": "2tMjLHxDCkje",
        "outputId": "ca07e9b9-fc81-4075-cc76-c5e23f09a03d",
        "colab": {
          "base_uri": "https://localhost:8080/",
          "height": 34
        }
      },
      "source": [
        "from qiskit.tools.monitor import job_monitor\n",
        "shots = 1024\n",
        "job = execute(simon_circuit_2, backend=backend, shots=shots, optimization_level=3)\n",
        "job_monitor(job, interval = 2)"
      ],
      "execution_count": 34,
      "outputs": [
        {
          "output_type": "stream",
          "text": [
            "Job Status: job has successfully run\n"
          ],
          "name": "stdout"
        }
      ]
    },
    {
      "cell_type": "markdown",
      "metadata": {
        "id": "ZxmhYjdiCuCt"
      },
      "source": [
        "Now we will get the results and plot counts"
      ]
    },
    {
      "cell_type": "code",
      "metadata": {
        "id": "LY48Sij0Cznl",
        "outputId": "07bf8c7b-5274-421a-9bdc-6021c5296055",
        "colab": {
          "base_uri": "https://localhost:8080/",
          "height": 331
        }
      },
      "source": [
        "device_counts = job.result().get_counts()\n",
        "plot_histogram(device_counts)"
      ],
      "execution_count": 35,
      "outputs": [
        {
          "output_type": "execute_result",
          "data": {
            "image/png": "[encoded data removed]",
            "text/plain": [
              "<Figure size 504x360 with 1 Axes>"
            ]
          },
          "metadata": {
            "tags": []
          },
          "execution_count": 35
        }
      ]
    },
    {
      "cell_type": "markdown",
      "metadata": {
        "id": "DHC52c_8CZeX"
      },
      "source": [
        "Finally, calculate the dot product of results"
      ]
    },
    {
      "cell_type": "code",
      "metadata": {
        "id": "UTje6vHR9GiG",
        "outputId": "9a4f3e9f-d579-4d1d-a0a8-cecb03d4d56e",
        "colab": {
          "base_uri": "https://localhost:8080/",
          "height": 101
        }
      },
      "source": [
        "def bdotz(b, z):\n",
        "    accum = 0\n",
        "    for i in range(len(b)):\n",
        "        accum += int(b[i]) * int(z[i])\n",
        "    return (accum % 2)\n",
        "\n",
        "print('b = ' + b)\n",
        "for z in device_counts:\n",
        "    print( '{}.{} = {} (mod 2) ({:.1f}%)'.format(b, z, bdotz(b,z), device_counts[z]*100/shots))"
      ],
      "execution_count": 36,
      "outputs": [
        {
          "output_type": "stream",
          "text": [
            "b = 11\n",
            "11.01 = 1 (mod 2) (11.8%)\n",
            "11.10 = 1 (mod 2) (13.6%)\n",
            "11.00 = 0 (mod 2) (42.7%)\n",
            "11.11 = 0 (mod 2) (31.9%)\n"
          ],
          "name": "stdout"
        }
      ]
    },
    {
      "cell_type": "code",
      "metadata": {
        "id": "FmjQsGtG9G1L"
      },
      "source": [
        ""
      ],
      "execution_count": null,
      "outputs": []
    }
  ]
}