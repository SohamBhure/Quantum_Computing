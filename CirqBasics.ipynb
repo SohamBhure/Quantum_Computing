{
 "cells": [
  {
   "cell_type": "markdown",
   "metadata": {},
   "source": [
    "# Basic functions of Criq \n",
    "Usage of frequently used Cirq functions"
   ]
  },
  {
   "cell_type": "code",
   "execution_count": 91,
   "metadata": {},
   "outputs": [],
   "source": [
    "import cirq\n",
    "import numpy as np"
   ]
  },
  {
   "cell_type": "markdown",
   "metadata": {},
   "source": [
    "### Google Quantum Hardware"
   ]
  },
  {
   "cell_type": "code",
   "execution_count": 2,
   "metadata": {},
   "outputs": [
    {
     "name": "stdout",
     "output_type": "stream",
     "text": [
      "                                             (0, 5)────(0, 6)\n",
      "                                             │         │\n",
      "                                             │         │\n",
      "                                    (1, 4)───(1, 5)────(1, 6)────(1, 7)\n",
      "                                    │        │         │         │\n",
      "                                    │        │         │         │\n",
      "                           (2, 3)───(2, 4)───(2, 5)────(2, 6)────(2, 7)───(2, 8)\n",
      "                           │        │        │         │         │        │\n",
      "                           │        │        │         │         │        │\n",
      "                  (3, 2)───(3, 3)───(3, 4)───(3, 5)────(3, 6)────(3, 7)───(3, 8)───(3, 9)\n",
      "                  │        │        │        │         │         │        │        │\n",
      "                  │        │        │        │         │         │        │        │\n",
      "         (4, 1)───(4, 2)───(4, 3)───(4, 4)───(4, 5)────(4, 6)────(4, 7)───(4, 8)───(4, 9)───(4, 10)\n",
      "         │        │        │        │        │         │         │        │        │        │\n",
      "         │        │        │        │        │         │         │        │        │        │\n",
      "(5, 0)───(5, 1)───(5, 2)───(5, 3)───(5, 4)───(5, 5)────(5, 6)────(5, 7)───(5, 8)───(5, 9)───(5, 10)───(5, 11)\n",
      "         │        │        │        │        │         │         │        │        │        │\n",
      "         │        │        │        │        │         │         │        │        │        │\n",
      "         (6, 1)───(6, 2)───(6, 3)───(6, 4)───(6, 5)────(6, 6)────(6, 7)───(6, 8)───(6, 9)───(6, 10)\n",
      "                  │        │        │        │         │         │        │        │\n",
      "                  │        │        │        │         │         │        │        │\n",
      "                  (7, 2)───(7, 3)───(7, 4)───(7, 5)────(7, 6)────(7, 7)───(7, 8)───(7, 9)\n",
      "                           │        │        │         │         │        │\n",
      "                           │        │        │         │         │        │\n",
      "                           (8, 3)───(8, 4)───(8, 5)────(8, 6)────(8, 7)───(8, 8)\n",
      "                                    │        │         │         │\n",
      "                                    │        │         │         │\n",
      "                                    (9, 4)───(9, 5)────(9, 6)────(9, 7)\n",
      "                                             │         │\n",
      "                                             │         │\n",
      "                                             (10, 5)───(10, 6)\n"
     ]
    }
   ],
   "source": [
    "print(cirq.google.Bristlecone)"
   ]
  },
  {
   "cell_type": "markdown",
   "metadata": {},
   "source": [
    "## Create a Qubit"
   ]
  },
  {
   "cell_type": "code",
   "execution_count": 4,
   "metadata": {},
   "outputs": [],
   "source": [
    "#Named Qubit\n",
    "a = cirq.NamedQubit(\"a\")\n",
    "b = cirq.NamedQubit(\"b\")\n",
    "c = cirq.NamedQubit(\"c\")\n",
    "\n",
    "#OR\n",
    "#Line-Qubit\n",
    "qubits = cirq.LineQubit.range(3)\n",
    "#Creates a array/list of Qubits\n",
    "\n",
    "#OR\n",
    "#Grid-Qubit\n",
    "qubits = [cirq.GridQubit(x, y) for x in range(3) for y in range(3)]"
   ]
  },
  {
   "cell_type": "markdown",
   "metadata": {},
   "source": [
    "## Build a circuit"
   ]
  },
  {
   "cell_type": "code",
   "execution_count": 16,
   "metadata": {},
   "outputs": [
    {
     "name": "stdout",
     "output_type": "stream",
     "text": [
      "\n"
     ]
    }
   ],
   "source": [
    "circuit=cirq.Circuit()\n",
    "print(circuit)"
   ]
  },
  {
   "cell_type": "markdown",
   "metadata": {},
   "source": [
    "### Adding Gates"
   ]
  },
  {
   "cell_type": "code",
   "execution_count": 17,
   "metadata": {},
   "outputs": [
    {
     "name": "stdout",
     "output_type": "stream",
     "text": [
      "a: ───H───\n"
     ]
    }
   ],
   "source": [
    "circuit.append(cirq.H(a))\n",
    "print(circuit)"
   ]
  },
  {
   "cell_type": "markdown",
   "metadata": {},
   "source": [
    "#### Hadmard Gate\n",
    "Puts the qubit in superposition. But what is it exactly?"
   ]
  },
  {
   "cell_type": "code",
   "execution_count": 18,
   "metadata": {},
   "outputs": [
    {
     "data": {
      "text/plain": [
       "array([[ 0.70710678+0.j,  0.70710678+0.j],\n",
       "       [ 0.70710678+0.j, -0.70710678+0.j]])"
      ]
     },
     "execution_count": 18,
     "metadata": {},
     "output_type": "execute_result"
    }
   ],
   "source": [
    "cirq.unitary(cirq.H)"
   ]
  },
  {
   "cell_type": "markdown",
   "metadata": {},
   "source": [
    "#### Let make a measurement..!"
   ]
  },
  {
   "cell_type": "code",
   "execution_count": 19,
   "metadata": {},
   "outputs": [],
   "source": [
    "circuit.append(cirq.measure(a))"
   ]
  },
  {
   "cell_type": "code",
   "execution_count": 20,
   "metadata": {},
   "outputs": [
    {
     "name": "stdout",
     "output_type": "stream",
     "text": [
      "Measurement results\n",
      "a=1\n"
     ]
    }
   ],
   "source": [
    "simulator = cirq.Simulator()\n",
    "result = simulator.run(circuit)\n",
    "print('Measurement results')\n",
    "print(result)"
   ]
  },
  {
   "cell_type": "code",
   "execution_count": 33,
   "metadata": {},
   "outputs": [
    {
     "name": "stdout",
     "output_type": "stream",
     "text": [
      "a: ───H───M───\n",
      "          │\n",
      "b: ───H───M───\n"
     ]
    }
   ],
   "source": [
    "ops=[cirq.H(a), cirq.H(b), cirq.measure(a,b)]\n",
    "circuit=cirq.Circuit(ops)\n",
    "print(circuit)"
   ]
  },
  {
   "cell_type": "code",
   "execution_count": 37,
   "metadata": {},
   "outputs": [
    {
     "name": "stdout",
     "output_type": "stream",
     "text": [
      "Measurement results\n",
      "a,b=0000111011110000110100000111101000011000000000010011101001101101001100001011001001010111111010001010, 0010101010110100010100001101110101110011010110001001111110100100011101110100010010100100010110000101\n"
     ]
    }
   ],
   "source": [
    "simulator = cirq.Simulator()\n",
    "result = simulator.run(circuit,repetitions=100)\n",
    "print('Measurement results')\n",
    "print(result)"
   ]
  },
  {
   "cell_type": "code",
   "execution_count": 39,
   "metadata": {},
   "outputs": [
    {
     "data": {
      "image/png": "[encoded data removed]",
      "text/plain": [
       "<Figure size 432x288 with 1 Axes>"
      ]
     },
     "metadata": {
      "needs_background": "light"
     },
     "output_type": "display_data"
    },
    {
     "data": {
      "text/plain": [
       "array([56., 44.])"
      ]
     },
     "execution_count": 39,
     "metadata": {},
     "output_type": "execute_result"
    }
   ],
   "source": [
    "from cirq import plot_state_histogram as plt_hist \n",
    "plt_hist(result)"
   ]
  },
  {
   "cell_type": "markdown",
   "metadata": {},
   "source": [
    "As expected both qubits are in state of superposition and as soon as we measure it they collapse down to one of the states with 50% probability"
   ]
  },
  {
   "cell_type": "markdown",
   "metadata": {},
   "source": [
    "#### CNOT gate\n",
    "This gate acts like Controlled not gate one of the input acts as signal ON/OFF(1/0) to the NOT gate which is applied to other input. So for example:"
   ]
  },
  {
   "cell_type": "code",
   "execution_count": 44,
   "metadata": {},
   "outputs": [
    {
     "name": "stdout",
     "output_type": "stream",
     "text": [
      "a: ───H───@───M───\n",
      "          │   │\n",
      "b: ───────X───M───\n"
     ]
    }
   ],
   "source": [
    "circ=cirq.Circuit([cirq.H(a), cirq.CNOT(a,b), cirq.measure(a,b)])\n",
    "print(circ)"
   ]
  },
  {
   "cell_type": "code",
   "execution_count": 45,
   "metadata": {},
   "outputs": [],
   "source": [
    "simulator=cirq.Simulator()\n",
    "result=simulator.run(circ,repetitions=100)"
   ]
  },
  {
   "cell_type": "code",
   "execution_count": 76,
   "metadata": {},
   "outputs": [
    {
     "data": {
      "text/plain": [
       "Counter({3: 51, 0: 49})"
      ]
     },
     "execution_count": 76,
     "metadata": {},
     "output_type": "execute_result"
    }
   ],
   "source": [
    "result.histogram(key=\"a,b\")"
   ]
  },
  {
   "cell_type": "code",
   "execution_count": 80,
   "metadata": {},
   "outputs": [
    {
     "data": {
      "image/png": "[encoded data removed]",
      "text/plain": [
       "<Figure size 432x288 with 1 Axes>"
      ]
     },
     "metadata": {
      "needs_background": "light"
     },
     "output_type": "display_data"
    },
    {
     "data": {
      "text/plain": [
       "array([49., 51.])"
      ]
     },
     "execution_count": 80,
     "metadata": {},
     "output_type": "execute_result"
    }
   ],
   "source": [
    "plt_hist(result)"
   ]
  },
  {
   "cell_type": "code",
   "execution_count": 81,
   "metadata": {},
   "outputs": [
    {
     "data": {
      "text/plain": [
       "array([[1.+0.j, 0.+0.j, 0.+0.j, 0.+0.j],\n",
       "       [0.+0.j, 1.+0.j, 0.+0.j, 0.+0.j],\n",
       "       [0.+0.j, 0.+0.j, 0.+0.j, 1.+0.j],\n",
       "       [0.+0.j, 0.+0.j, 1.+0.j, 0.+0.j]])"
      ]
     },
     "execution_count": 81,
     "metadata": {},
     "output_type": "execute_result"
    }
   ],
   "source": [
    "cirq.unitary(cirq.CNOT)"
   ]
  },
  {
   "cell_type": "markdown",
   "metadata": {},
   "source": [
    "We also call this as state of entanglement"
   ]
  },
  {
   "cell_type": "markdown",
   "metadata": {},
   "source": [
    "### Moments"
   ]
  },
  {
   "cell_type": "code",
   "execution_count": 86,
   "metadata": {},
   "outputs": [
    {
     "name": "stdout",
     "output_type": "stream",
     "text": [
      "a: ───H───────────\n",
      "\n",
      "b: ───H───@───H───\n",
      "          │\n",
      "c: ───────X───────\n"
     ]
    }
   ],
   "source": [
    "a = cirq.NamedQubit(\"a\")\n",
    "b = cirq.NamedQubit(\"b\")\n",
    "c = cirq.NamedQubit(\"c\")\n",
    "ops = [cirq.H(a), cirq.H(b), cirq.CNOT(b, c), cirq.H(b)]\n",
    "circuit = cirq.Circuit(ops)\n",
    "print(circuit)"
   ]
  },
  {
   "cell_type": "code",
   "execution_count": 87,
   "metadata": {},
   "outputs": [
    {
     "name": "stdout",
     "output_type": "stream",
     "text": [
      "Moment 0: H(a) and H(b)\n",
      "Moment 1: CNOT(b, c)\n",
      "Moment 2: H(b)\n"
     ]
    }
   ],
   "source": [
    "for i, moment in enumerate(circuit):\n",
    "    print('Moment {}: {}'.format(i, moment))"
   ]
  },
  {
   "cell_type": "markdown",
   "metadata": {},
   "source": [
    "This prints all the operations on circuit that take place at one time instance in order"
   ]
  },
  {
   "cell_type": "code",
   "execution_count": 89,
   "metadata": {},
   "outputs": [
    {
     "name": "stdout",
     "output_type": "stream",
     "text": [
      "cirq.Circuit([\n",
      "    cirq.Moment(operations=[\n",
      "        cirq.H.on(cirq.NamedQubit('a')),\n",
      "        cirq.H.on(cirq.NamedQubit('b')),\n",
      "    ]),\n",
      "    cirq.Moment(operations=[\n",
      "        cirq.CNOT.on(cirq.NamedQubit('b'), cirq.NamedQubit('c')),\n",
      "    ]),\n",
      "    cirq.Moment(operations=[\n",
      "        cirq.H.on(cirq.NamedQubit('b')),\n",
      "    ]),\n",
      "])\n"
     ]
    }
   ],
   "source": [
    "print(repr(circuit))"
   ]
  },
  {
   "cell_type": "markdown",
   "metadata": {},
   "source": [
    "### Moment By Moment simulation"
   ]
  },
  {
   "cell_type": "markdown",
   "metadata": {},
   "source": [
    "#### Rotation"
   ]
  },
  {
   "cell_type": "code",
   "execution_count": 93,
   "metadata": {},
   "outputs": [
    {
     "name": "stdout",
     "output_type": "stream",
     "text": [
      "a: ───Rx(π)───\n"
     ]
    }
   ],
   "source": [
    "circuit = cirq.Circuit([cirq.rx(np.pi)(a)])\n",
    "print(circuit)"
   ]
  },
  {
   "cell_type": "markdown",
   "metadata": {},
   "source": [
    "Let us now rotate the probability amplitude vector of a qubit by small delta and observe its probability of collapsing to spin 0"
   ]
  },
  {
   "cell_type": "code",
   "execution_count": 95,
   "metadata": {},
   "outputs": [
    {
     "name": "stdout",
     "output_type": "stream",
     "text": [
      "Circuit with 200 number of  0.10471975511965977 roundtations along X-axis:\n",
      "a: ───Rx(0.033π)───Rx(0.033π)───Rx(0.033π)───Rx(0.033π)───Rx(0.033π)───Rx(0.033π)───Rx(0.033π)───Rx(0.033π)───Rx(0.033π)───Rx(0.033π)───Rx(0.033π)───Rx(0.033π)───Rx(0.033π)───Rx(0.033π)───Rx(0.033π)───Rx(0.033π)───Rx(0.033π)───Rx(0.033π)───Rx(0.033π)───Rx(0.033π)───Rx(0.033π)───Rx(0.033π)───Rx(0.033π)───Rx(0.033π)───Rx(0.033π)───Rx(0.033π)───Rx(0.033π)───Rx(0.033π)───Rx(0.033π)───Rx(0.033π)───Rx(0.033π)───Rx(0.033π)───Rx(0.033π)───Rx(0.033π)───Rx(0.033π)───Rx(0.033π)───Rx(0.033π)───Rx(0.033π)───Rx(0.033π)───Rx(0.033π)───Rx(0.033π)───Rx(0.033π)───Rx(0.033π)───Rx(0.033π)───Rx(0.033π)───Rx(0.033π)───Rx(0.033π)───Rx(0.033π)───Rx(0.033π)───Rx(0.033π)───Rx(0.033π)───Rx(0.033π)───Rx(0.033π)───Rx(0.033π)───Rx(0.033π)───Rx(0.033π)───Rx(0.033π)───Rx(0.033π)───Rx(0.033π)───Rx(0.033π)───Rx(0.033π)───Rx(0.033π)───Rx(0.033π)───Rx(0.033π)───Rx(0.033π)───Rx(0.033π)───Rx(0.033π)───Rx(0.033π)───Rx(0.033π)───Rx(0.033π)───Rx(0.033π)───Rx(0.033π)───Rx(0.033π)───Rx(0.033π)───Rx(0.033π)───Rx(0.033π)───Rx(0.033π)───Rx(0.033π)───Rx(0.033π)───Rx(0.033π)───Rx(0.033π)───Rx(0.033π)───Rx(0.033π)───Rx(0.033π)───Rx(0.033π)───Rx(0.033π)───Rx(0.033π)───Rx(0.033π)───Rx(0.033π)───Rx(0.033π)───Rx(0.033π)───Rx(0.033π)───Rx(0.033π)───Rx(0.033π)───Rx(0.033π)───Rx(0.033π)───Rx(0.033π)───Rx(0.033π)───Rx(0.033π)───Rx(0.033π)───Rx(0.033π)───Rx(0.033π)───Rx(0.033π)───Rx(0.033π)───Rx(0.033π)───Rx(0.033π)───Rx(0.033π)───Rx(0.033π)───Rx(0.033π)───Rx(0.033π)───Rx(0.033π)───Rx(0.033π)───Rx(0.033π)───Rx(0.033π)───Rx(0.033π)───Rx(0.033π)───Rx(0.033π)───Rx(0.033π)───Rx(0.033π)───Rx(0.033π)───Rx(0.033π)───Rx(0.033π)───Rx(0.033π)───Rx(0.033π)───Rx(0.033π)───Rx(0.033π)───Rx(0.033π)───Rx(0.033π)───Rx(0.033π)───Rx(0.033π)───Rx(0.033π)───Rx(0.033π)───Rx(0.033π)───Rx(0.033π)───Rx(0.033π)───Rx(0.033π)───Rx(0.033π)───Rx(0.033π)───Rx(0.033π)───Rx(0.033π)───Rx(0.033π)───Rx(0.033π)───Rx(0.033π)───Rx(0.033π)───Rx(0.033π)───Rx(0.033π)───Rx(0.033π)───Rx(0.033π)───Rx(0.033π)───Rx(0.033π)───Rx(0.033π)───Rx(0.033π)───Rx(0.033π)───Rx(0.033π)───Rx(0.033π)───Rx(0.033π)───Rx(0.033π)───Rx(0.033π)───Rx(0.033π)───Rx(0.033π)───Rx(0.033π)───Rx(0.033π)───Rx(0.033π)───Rx(0.033π)───Rx(0.033π)───Rx(0.033π)───Rx(0.033π)───Rx(0.033π)───Rx(0.033π)───Rx(0.033π)───Rx(0.033π)───Rx(0.033π)───Rx(0.033π)───Rx(0.033π)───Rx(0.033π)───Rx(0.033π)───Rx(0.033π)───Rx(0.033π)───Rx(0.033π)───Rx(0.033π)───Rx(0.033π)───Rx(0.033π)───Rx(0.033π)───Rx(0.033π)───Rx(0.033π)───Rx(0.033π)───Rx(0.033π)───Rx(0.033π)───Rx(0.033π)───Rx(0.033π)───Rx(0.033π)───Rx(0.033π)───Rx(0.033π)───Rx(0.033π)───Rx(0.033π)───Rx(0.033π)───Rx(0.033π)───Rx(0.033π)───Rx(0.033π)───Rx(0.033π)───\n"
     ]
    }
   ],
   "source": [
    "a = cirq.NamedQubit('a')\n",
    "simulator = cirq.Simulator()\n",
    "delta=np.pi / 30.0\n",
    "circuit = cirq.Circuit([cirq.rx(delta)(a) for theta in range(200)])\n",
    "print(\"Circuit with 200 number of \",delta,\"roundtations along X-axis:\")\n",
    "print(circuit)"
   ]
  },
  {
   "cell_type": "code",
   "execution_count": 96,
   "metadata": {},
   "outputs": [
    {
     "data": {
      "text/plain": [
       "[<matplotlib.lines.Line2D at 0x27b47931fd0>]"
      ]
     },
     "execution_count": 96,
     "metadata": {},
     "output_type": "execute_result"
    },
    {
     "data": {
      "image/png": "[encoded data removed]",
      "text/plain": [
       "<Figure size 432x288 with 1 Axes>"
      ]
     },
     "metadata": {
      "needs_background": "light"
     },
     "output_type": "display_data"
    }
   ],
   "source": [
    "from matplotlib.pyplot import plot\n",
    "probs = []\n",
    "iteration = []\n",
    "for i, step in enumerate(simulator.simulate_moment_steps(circuit)):\n",
    "    prob = np.abs(step.state_vector()) ** 2\n",
    "    iteration.append(i)\n",
    "    probs.append(prob[0])\n",
    "plot(iteration, probs, 'o')"
   ]
  },
  {
   "cell_type": "markdown",
   "metadata": {},
   "source": [
    "The state vector gives probability of State 0 at each moment"
   ]
  },
  {
   "cell_type": "code",
   "execution_count": null,
   "metadata": {},
   "outputs": [],
   "source": []
  }
 ],
 "metadata": {
  "kernelspec": {
   "display_name": "Python 3",
   "language": "python",
   "name": "python3"
  },
  "language_info": {
   "codemirror_mode": {
    "name": "ipython",
    "version": 3
   },
   "file_extension": ".py",
   "mimetype": "text/x-python",
   "name": "python",
   "nbconvert_exporter": "python",
   "pygments_lexer": "ipython3",
   "version": "3.7.2"
  }
 },
 "nbformat": 4,
 "nbformat_minor": 2
}
